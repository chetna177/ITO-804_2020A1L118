{
  "nbformat": 4,
  "nbformat_minor": 0,
  "metadata": {
    "colab": {
      "provenance": []
    },
    "kernelspec": {
      "name": "python3",
      "display_name": "Python 3"
    },
    "language_info": {
      "name": "python"
    }
  },
  "cells": [
    {
      "cell_type": "markdown",
      "source": [
        "\n",
        "**Name : Chetna Sahu**\n",
        "\n",
        "**Roll no : 2020A1L118**\n",
        "\n",
        "**Subject: Python (ITO- 804)**"
      ],
      "metadata": {
        "id": "MsZWR45tto9O"
      }
    },
    {
      "cell_type": "markdown",
      "source": [
        "Q1.) Write a Python program that takes a list of daily stock prices as input, and returns the best \n",
        "days to buy and sell stocks in order to maximize profit. The list contains the stock prices for \n",
        "each day, starting from the first day. \n",
        "\n",
        "For example, the list (100, 180, 260, 310, 40, 535, 695) represents the stock prices for 7 days, \n",
        "where the price on the first day is 100, the second day is 180, and so on. \n",
        "The program should find the best days to buy and sell stocks such that the profit obtained is \n",
        "maximum. For instance, in the given list of stock prices, the best days to buy and sell stocks \n",
        "would be: \n",
        "\n",
        "Buy stock on the 1st day (price=100) \n",
        "Sell stock on the 4th day (price=310)\n",
        "Buy stock on the 5th day (price=40) \n",
        "Sell stock on the 7th day (price=695)\n",
        " \n",
        "The program should output these buy and sell days as a tuple or list of integers. give me \n",
        "solution of this program"
      ],
      "metadata": {
        "id": "C9FRDu54lcs0"
      }
    },
    {
      "cell_type": "code",
      "source": [
        "def find_best_days(prices):\n",
        "    min_price = float('inf')\n",
        "    max_profit = 0\n",
        "    buy_day = 0\n",
        "    sell_day = 0\n",
        "    \n",
        "    for i in range(len(prices)):\n",
        "        if prices[i] < min_price:\n",
        "            min_price = prices[i]\n",
        "            buy_day = i\n",
        "        \n",
        "        profit = prices[i] - min_price\n",
        "        if profit > max_profit:\n",
        "            max_profit = profit\n",
        "            sell_day = i\n",
        "    \n",
        "    return (buy_day+1, sell_day+1)\n",
        "prices = [100, 180, 260, 310, 40, 535, 695]\n",
        "print(f\"Prices on Each Date:\")\n",
        "for i in range(0,len(prices)):\n",
        "    print(\"Price of Day\",i+1,\"is\",prices[i])\n",
        "best_days = find_best_days(prices)\n",
        "print(f\"Buy on day {best_days[0]} and sell on day {best_days[1]}\")"
      ],
      "metadata": {
        "colab": {
          "base_uri": "https://localhost:8080/"
        },
        "id": "JpFz_qx9lbHn",
        "outputId": "e9c49083-ee32-453f-96f4-2810ec30cb21"
      },
      "execution_count": 1,
      "outputs": [
        {
          "output_type": "stream",
          "name": "stdout",
          "text": [
            "Prices on Each Date:\n",
            "Price of Day 1 is 100\n",
            "Price of Day 2 is 180\n",
            "Price of Day 3 is 260\n",
            "Price of Day 4 is 310\n",
            "Price of Day 5 is 40\n",
            "Price of Day 6 is 535\n",
            "Price of Day 7 is 695\n",
            "Buy on day 5 and sell on day 7\n"
          ]
        }
      ]
    },
    {
      "cell_type": "markdown",
      "source": [
        "Q2.) You are given a list of book titles and their corresponding publication years. Your task is \n",
        "to find the earliest year in which a trilogy of books was published. A trilogy is defined as a \n",
        "series of three books published in consecutive years.\n",
        "For example, consider the following list of book titles and publication years:\n",
        "Model Institute of Engineering & Technology (Autonomous)\n",
        "(Permanently Affiliated to the University of Jammu, Accredited by NAAC with “A” Grade) \n",
        "titles = ['The Hunger Games', 'Catching Fire', 'Mockingjay', 'The Lord of the Rings', 'The Two \n",
        "Towers', 'The Return of the King', 'Divergent', 'Insurgent', 'Allegiant']\n",
        "years = [2008, 2009, 2010, 1954, 1955, 1956, 2011, 2012, 2013]\n",
        "The earliest year in which a trilogy was published is 1954.\n"
      ],
      "metadata": {
        "id": "uw-dm3qYmgMx"
      }
    },
    {
      "cell_type": "code",
      "source": [
        "def find_trilogy_year(books):\n",
        "    years = sorted(set(books.values()))\n",
        "    \n",
        "    for i in range(len(years)-2):\n",
        "        if (years[i+2] - years[i+1] == years[i+1] - years[i]) and \\\n",
        "        any(years[i+1] == year for book, year in books.items() if years[i] <= year <= years[i+2]):\n",
        "            return years[i]\n",
        "    \n",
        "    return None\n",
        "\n",
        "books = {'The Hunger Games': 2008, 'Catching Fire': 2009, 'Mockingjay': 2010, 'The Lord of the Rings': 1954, \\\n",
        "                 'The Return of the King': 1956, 'Divergent': 2011, 'Insurgent':2012,'Allegiant':2013,  'The Two Towers':1955}\n",
        "trilogy_year = find_trilogy_year(books)\n",
        "print(f\"The earliest year in which a trilogy was published is {trilogy_year}\")"
      ],
      "metadata": {
        "colab": {
          "base_uri": "https://localhost:8080/"
        },
        "id": "jPtXiulXmf0H",
        "outputId": "08fd24ec-1cd4-4610-83d1-84b39ee20e5a"
      },
      "execution_count": 2,
      "outputs": [
        {
          "output_type": "stream",
          "name": "stdout",
          "text": [
            "The earliest year in which a trilogy was published is 1954\n"
          ]
        }
      ]
    },
    {
      "cell_type": "markdown",
      "source": [
        "Q3.) Write a Python program that reads in a CSV file of stock prices (e.g. ticker symbol, date, \n",
        "price), and then uses dictionaries and lists to calculate the highest and lowest prices for each \n",
        "stock from following table:\n",
        "\n",
        "Symbol Date Price\n",
        "AAPL 2022-01-01 135.90\n",
        "AAPL 2022-01-02 138.45\n",
        "AAPL 2022-01-03 142.20\n",
        "GOOG 2022-01-01 2105.75\n",
        "GOOG 2022-01-02 2098.00\n",
        "GOOG 2022-01-03 2125.50\n",
        "MSFT 2022-01-01 345.20\n",
        "MSFT 2022-01-02 344.70\n",
        "MSFT 2022-01-03 342.10\n"
      ],
      "metadata": {
        "id": "UtINalTkm9Or"
      }
    },
    {
      "cell_type": "code",
      "source": [
        "import csv\n",
        "\n",
        "# Open the CSV file and read in the data\n",
        "with open('3_csv.csv') as file:\n",
        "    reader = csv.reader(file)\n",
        "    # Skip the header row\n",
        "    next(reader)\n",
        "    # Create an empty dictionary to store the prices for each stock\n",
        "    prices = {}\n",
        "    # Loop through each row of the CSV file\n",
        "    for row in reader:\n",
        "        # Extract the symbol, date, and price from the row\n",
        "        ticker, date, price = row\n",
        "        # Convert the price from a string to a float\n",
        "        price = float(price)\n",
        "        # Check if the ticker symbol is already in the dictionary\n",
        "        if ticker in prices:\n",
        "            # If the ticker symbol is already in the dictionary, add the price to the list of prices for that stock\n",
        "            prices[ticker].append(price)\n",
        "        else:\n",
        "            # If the ticker symbol is not already in the dictionary, create a new list with the first price\n",
        "            prices[ticker] = [price]\n",
        "\n",
        "# Loop through the dictionary of prices for each stock\n",
        "for ticker, price_list in prices.items():\n",
        "    # Calculate the highest and lowest prices for the stock\n",
        "    highest_price = max(price_list)\n",
        "    lowest_price = min(price_list)\n",
        "    # Print the results\n",
        "    print(f\"{ticker}: Highest Price = ${highest_price:.2f}, Lowest Price = ${lowest_price:.2f}\")"
      ],
      "metadata": {
        "id": "dd9v5gYfutKF"
      },
      "execution_count": null,
      "outputs": []
    },
    {
      "cell_type": "markdown",
      "source": [
        "Q4.) A) Write a Python program to remove duplicates from a list of lists.\n",
        "Sample list: [[10, 20], [40], [30, 56, 25], [10, 20], [33], [40]]\n"
      ],
      "metadata": {
        "id": "8tG1RlVgf-xk"
      }
    },
    {
      "cell_type": "code",
      "source": [
        "import itertools\n",
        "\n",
        "num = [[10,20],[40],[30,56,25],[10,20],[33],[40]]\n",
        "print(\"Original List\",num)\n",
        "num.sort()\n",
        "new_num = list(num for num,_ in itertools.groupby(num))\n",
        "print(\"New List\", new_num)"
      ],
      "metadata": {
        "colab": {
          "base_uri": "https://localhost:8080/"
        },
        "id": "bcnizyS9frdm",
        "outputId": "b81921aa-4009-4b21-8386-42e7f4e03e80"
      },
      "execution_count": null,
      "outputs": [
        {
          "output_type": "stream",
          "name": "stdout",
          "text": [
            "Original List [[10, 20], [40], [30, 56, 25], [10, 20], [33], [40]]\n",
            "New List [[10, 20], [30, 56, 25], [33], [40]]\n"
          ]
        }
      ]
    },
    {
      "cell_type": "markdown",
      "source": [
        "B) Write a Python program which takes a list and returns a list with the elements \"shifted left\n",
        "by one position\" so [1, 2, 3] yields [2, 3, 1].\n",
        "Example: [1, 2, 3] → [2, 3, 1]\n",
        " [11, 12, 13] → [12, 13, 11] "
      ],
      "metadata": {
        "id": "lCPXw9H8gOZ5"
      }
    },
    {
      "cell_type": "code",
      "source": [
        "a= []\n",
        "size = int(input(\"Enter size of the list :\"))\n",
        "for i in range(size):\n",
        "  val = int(input(\"Enter Element:\"))\n",
        "  a.append(val)\n",
        "print(\"Original List is :\", a)\n",
        "first_element = a[0]\n",
        "for i in range(1,size):\n",
        "  a[i-1]=a[i] \n",
        "a[size-1]=first_element\n",
        "print(\"Modified List is:\", a) \n",
        "\n",
        "\n",
        "\n",
        "\n"
      ],
      "metadata": {
        "colab": {
          "base_uri": "https://localhost:8080/"
        },
        "id": "mjcM8ryDrCIT",
        "outputId": "0ffc09e0-0d01-4d3e-c223-45ab6d01c09d"
      },
      "execution_count": null,
      "outputs": [
        {
          "output_type": "stream",
          "name": "stdout",
          "text": [
            "Enter size of the list :4\n",
            "Enter Element:1\n",
            "Enter Element:2\n",
            "Enter Element:3\n",
            "Enter Element:4\n",
            "Original List is : [1, 2, 3, 4]\n",
            "Modified List is: [2, 3, 4, 1]\n"
          ]
        }
      ]
    },
    {
      "cell_type": "markdown",
      "source": [
        "C) Iterate a given list and count the occurrence of each element and create a dictionary to show\n",
        "the count of each element.\n",
        "Original list [11, 45, 8, 11, 23, 45, 23, 45, 89, 11, 89]\n",
        "And expected output is:\n",
        "Printing count of each item {11: 3, 45: 3, 8: 1, 23: 2, 89: 2}"
      ],
      "metadata": {
        "id": "riZ5L5ruq4rU"
      }
    },
    {
      "cell_type": "code",
      "source": [
        "sample_list = [11, 45, 8, 11, 23, 45, 23, 45, 89,11,89]\n",
        "print(\"Original list \", sample_list)\n",
        "\n",
        "count_dict = dict()\n",
        "for item in sample_list:\n",
        "    if item in count_dict:\n",
        "        count_dict[item] += 1\n",
        "    else:\n",
        "        count_dict[item] = 1\n",
        "\n",
        "print(\"Printing count of each item  \", count_dict)"
      ],
      "metadata": {
        "id": "TlnuxzXkgU05",
        "colab": {
          "base_uri": "https://localhost:8080/"
        },
        "outputId": "f31b1309-d6f6-4e2d-e5b3-f067c18b5235"
      },
      "execution_count": null,
      "outputs": [
        {
          "output_type": "stream",
          "name": "stdout",
          "text": [
            "Original list  [11, 45, 8, 11, 23, 45, 23, 45, 89, 11, 89]\n",
            "Printing count of each item   {11: 3, 45: 3, 8: 1, 23: 2, 89: 2}\n"
          ]
        }
      ]
    }
  ]
}